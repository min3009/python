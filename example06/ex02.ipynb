{
 "cells": [
  {
   "cell_type": "code",
   "execution_count": 1,
   "metadata": {},
   "outputs": [],
   "source": [
    "class Student:  #decorator\n",
    "    def __init__(self, name) -> None:\n",
    "        self.__name = name\n",
    "\n",
    "    @property\n",
    "    def name(self):\n",
    "        return self.__name\n",
    "    \n",
    "    @name.setter\n",
    "    def name(self, value):\n",
    "        self.__name = value\n",
    "    \n",
    "    @name.deleter\n",
    "    def name(self):\n",
    "        print('delete')\n",
    "        del self.__name\n",
    "        "
   ]
  },
  {
   "cell_type": "code",
   "execution_count": 15,
   "metadata": {},
   "outputs": [
    {
     "name": "stdout",
     "output_type": "stream",
     "text": [
      "Student class attributes: name= unknown\n"
     ]
    }
   ],
   "source": [
    "\n",
    "# class method\n",
    "\n",
    "class Student:\n",
    "    name = 'unknown'\n",
    "\n",
    "    def __init__(self,name) -> None:\n",
    "        self.age = 20\n",
    "        self.name = name\n",
    "\n",
    "    @classmethod\n",
    "    def tostring(cls):   #첫번째 객체로 self가 들어가는 것이 아닌 클래스가 들어간다.\n",
    "        print('Student class attributes: name=', cls.name)\n",
    "\n",
    "\n",
    "a = Student('dfdf')\n",
    "a.tostring()"
   ]
  },
  {
   "cell_type": "code",
   "execution_count": 16,
   "metadata": {},
   "outputs": [],
   "source": [
    "# static method\n",
    "\n",
    "class Student: \n",
    "    name = 'unknown'\n",
    "\n",
    "    def __init__(self) -> None:\n",
    "        self.age = 20\n",
    "\n",
    "    @staticmethod # 클래스나 인스턴스를 인자로 사용할 수 없다.\n",
    "    def tostring():\n",
    "        print('student class')\n",
    "\n"
   ]
  },
  {
   "cell_type": "code",
   "execution_count": 20,
   "metadata": {},
   "outputs": [
    {
     "data": {
      "text/plain": [
       "60"
      ]
     },
     "execution_count": 20,
     "metadata": {},
     "output_type": "execute_result"
    }
   ],
   "source": [
    "# magic method\n",
    "\n",
    "class MyDataset:\n",
    "    def __init__(self, data):\n",
    "        self.data = data\n",
    "\n",
    "    def __call__(self,a):\n",
    "        print(f\"{a} 함수 호출 방법처럼 객체를 함수 호출하듯이 만들어주는 메소드\")\n",
    "        return len(self.data)\n",
    "    \n",
    "    def __getitem__(self, idx):\n",
    "        return self.data[idx]\n",
    "    \n",
    "\n",
    "data = list(range(50,100))\n",
    "dt = MyDataset(data)\n",
    "dt.__getitem__(10)"
   ]
  },
  {
   "cell_type": "code",
   "execution_count": 21,
   "metadata": {},
   "outputs": [],
   "source": [
    "\n",
    "class MyDataset:\n",
    "    def __init__(self, data:list) -> None:\n",
    "        self.data = data\n",
    "\n",
    "    def __call__(self, name:str) -> int:\n",
    "        print(f'이름은 {name} 입니다.')\n",
    "        return len(self.data)\n",
    "    \n",
    "    def __getitem__(self, index:int) -> int:\n",
    "        print('no pain, no gain')\n",
    "        return self.data[index]\n",
    "    "
   ]
  },
  {
   "cell_type": "code",
   "execution_count": 23,
   "metadata": {},
   "outputs": [
    {
     "name": "stdout",
     "output_type": "stream",
     "text": [
      "이름은 파이썬 입니다.\n",
      "no pain, no gain\n"
     ]
    },
    {
     "data": {
      "text/plain": [
       "3"
      ]
     },
     "execution_count": 23,
     "metadata": {},
     "output_type": "execute_result"
    }
   ],
   "source": [
    "dataset = MyDataset([1,2,3,4,5])\n",
    "dataset(\"파이썬\")\n",
    "dataset[2]"
   ]
  },
  {
   "cell_type": "code",
   "execution_count": 24,
   "metadata": {},
   "outputs": [
    {
     "name": "stdout",
     "output_type": "stream",
     "text": [
      "소수입니다\n"
     ]
    }
   ],
   "source": [
    "class Prime:\n",
    "    number = 0\n",
    "\n",
    "    def __init__(self) -> None:\n",
    "        pass\n",
    "\n",
    "    def is_prime(self):\n",
    "        self.number = input()\n",
    "        \n",
    "        try:\n",
    "            int_number = int(self.number)\n",
    "        except ValueError:\n",
    "            print(\"math error\")\n",
    "            return\n",
    "\n",
    "        for i in range(2, int_number):\n",
    "            if int_number % i == 0:\n",
    "                print('소수가 아닙니다')\n",
    "                return\n",
    "        \n",
    "        print('소수입니다')\n",
    "            \n",
    "\n",
    "is_prime = Prime()\n",
    "is_prime.is_prime()\n"
   ]
  },
  {
   "cell_type": "code",
   "execution_count": 7,
   "metadata": {},
   "outputs": [
    {
     "name": "stdout",
     "output_type": "stream",
     "text": [
      "868\n",
      "실패\n",
      "세자릿수를 입력해주세요\n",
      "실패\n",
      "잘못된 입력값입니다\n"
     ]
    }
   ],
   "source": [
    "import random\n",
    "\n",
    "class Escape:\n",
    "\n",
    "    password = 0\n",
    "    def __init__(self) -> None:\n",
    "        pass\n",
    "\n",
    "    def guess_password(self):\n",
    "        self.password = random.randint(100,999)\n",
    "        print(self.password)\n",
    "        while True:\n",
    "            try:\n",
    "                input_password = input()\n",
    "                int_password = int(input_password)\n",
    "                if len(input_password) != 3:\n",
    "                    raise Exception\n",
    "                \n",
    "                if self.password == int_password:\n",
    "                    print('탈출')\n",
    "                    return\n",
    "                else:\n",
    "                    print('실패')\n",
    "            except ValueError:\n",
    "                print(\"잘못된 입력값입니다\")\n",
    "                return\n",
    "            except Exception:\n",
    "                print('세자릿수를 입력해주세요')\n",
    "\n",
    "try_escape = Escape()\n",
    "try_escape.guess_password()\n"
   ]
  },
  {
   "cell_type": "code",
   "execution_count": null,
   "metadata": {},
   "outputs": [],
   "source": []
  }
 ],
 "metadata": {
  "kernelspec": {
   "display_name": "example06",
   "language": "python",
   "name": "python3"
  },
  "language_info": {
   "codemirror_mode": {
    "name": "ipython",
    "version": 3
   },
   "file_extension": ".py",
   "mimetype": "text/x-python",
   "name": "python",
   "nbconvert_exporter": "python",
   "pygments_lexer": "ipython3",
   "version": "3.12.4"
  }
 },
 "nbformat": 4,
 "nbformat_minor": 2
}
