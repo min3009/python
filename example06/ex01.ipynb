{
 "cells": [
  {
   "cell_type": "code",
   "execution_count": 8,
   "metadata": {},
   "outputs": [
    {
     "name": "stdout",
     "output_type": "stream",
     "text": [
      "2010 데미지를 입혔습니다\n"
     ]
    }
   ],
   "source": [
    "# 부모클래스: 사람\n",
    "# 변수: 체력, 마나\n",
    "# 기능: 걷기, 점프, 휴식(체력 += 10, 마나가 있다면, += 10)\n",
    "\n",
    "# 자식클래스: 기사\n",
    "# 변수: 힘\n",
    "# 기능: 공격(체력 크기)(체력 = 체력 - 힘), 방어(random(1~10) < 5 -> 방어 실패 -> 체력 = 체력 - (공격/2) )\n",
    "\n",
    "# 자식클래스: 마법사\n",
    "# 변수: 지식\n",
    "# 기능: 공격(지식 크기)(마나 = (마나 + 지식) * 2), 방어: (random(1~10) < 5 -> 방어실패(마나 = 체력 - 공격)\n",
    "\n",
    "import random\n",
    "\n",
    "class Person:\n",
    "    hp = 0\n",
    "    mp = 0\n",
    "\n",
    "    def __init__(self, hp, mp):\n",
    "        self.hp = hp\n",
    "        self.mp = mp\n",
    "\n",
    "    def walk(self):\n",
    "        print('걷기')\n",
    "\n",
    "    def jump(self):\n",
    "        print('점프')\n",
    "    \n",
    "    def rest(self):\n",
    "        if(self.mp > 0):\n",
    "            self.hp += 10\n",
    "            self.mp += 10\n",
    "            print('체력과 마나가 10 회복되었습니다')\n",
    "        else:\n",
    "            self.hp += 10\n",
    "            print('체력이 10 회복되었습니다.')\n",
    "\n",
    "class Knight(Person):\n",
    "    power = 5\n",
    "\n",
    "    def __init__(self, hp, mp):\n",
    "        super().__init__(hp, mp)\n",
    "    \n",
    "    def attack(self):\n",
    "        self.hp -= self.hp - self.power\n",
    "        print(f'5의 데미지를 입히고 체력이 {self.hp}만큼 떨어졌습니다')\n",
    "\n",
    "    def defense(self):\n",
    "        if random.randrange(1,10) < 5:\n",
    "            print('방어 실패')\n",
    "            self.hp = self.hp - (self.power / 2)\n",
    "        else: \n",
    "            print('방어 성공')\n",
    "\n",
    "class Wizard(Person):\n",
    "    knowledge = 5\n",
    "    \n",
    "    def __init__(self, hp, mp):\n",
    "        super().__init__(hp, mp)\n",
    "\n",
    "    def Attack(self):\n",
    "        self.mp = (self.mp + self.knowledge) * 2\n",
    "        print(f\"{self.mp} 데미지를 입혔습니다\")\n",
    "    \n",
    "    def defense(self):\n",
    "        if random.randrange(1,10) < 5:\n",
    "            print(f'방어 실패 남은 체력은 {self.mp} 입니다')\n",
    "            self.mp = self.hp - self.mp\n",
    "        else: \n",
    "            print('방어 성공')\n",
    "\n",
    "\n",
    "magision = Wizard(50, 50)\n",
    "warrior = Knight(100,0)\n",
    "magision.Attack()\n",
    "warrior.jump()\n",
    "warrior.rest()"
   ]
  },
  {
   "cell_type": "code",
   "execution_count": 18,
   "metadata": {},
   "outputs": [],
   "source": [
    "# 접근 지정자\n",
    "# publc, private\n",
    "# 클래스의 모든 멤버(속성, 메소드) 는 기본적으로 public. 모든 멤버는 객체 외부에서도 접근 가능\n",
    "\n",
    "class Student:\n",
    "    school_name = 'XYZ School'\n",
    "\n",
    "    def __init__(self, name, age) -> None:\n",
    "        self.name = name\n",
    "        self.age = age\n",
    "\n",
    "    def __display(self): # __ 를 붙이면 private\n",
    "        print(f'{self.school_name}에 다니는 학생 {self.name}입니다')\n",
    "\n",
    "    def show(self):\n",
    "        self.__display()"
   ]
  },
  {
   "cell_type": "code",
   "execution_count": 19,
   "metadata": {},
   "outputs": [
    {
     "name": "stdout",
     "output_type": "stream",
     "text": [
      "XYZ School에 다니는 학생 steve입니다\n"
     ]
    }
   ],
   "source": [
    "a = Student('steve', 12)\n",
    "a.show()"
   ]
  },
  {
   "cell_type": "code",
   "execution_count": null,
   "metadata": {},
   "outputs": [],
   "source": []
  }
 ],
 "metadata": {
  "kernelspec": {
   "display_name": "Python 3",
   "language": "python",
   "name": "python3"
  },
  "language_info": {
   "codemirror_mode": {
    "name": "ipython",
    "version": 3
   },
   "file_extension": ".py",
   "mimetype": "text/x-python",
   "name": "python",
   "nbconvert_exporter": "python",
   "pygments_lexer": "ipython3",
   "version": "3.12.4"
  }
 },
 "nbformat": 4,
 "nbformat_minor": 2
}
