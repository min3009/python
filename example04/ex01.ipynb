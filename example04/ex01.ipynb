{
 "cells": [
  {
   "cell_type": "code",
   "execution_count": 43,
   "metadata": {},
   "outputs": [
    {
     "name": "stdout",
     "output_type": "stream",
     "text": [
      "{'국어': 50.0, '영어': 46.666666666666664, '수학': 60.0}\n"
     ]
    }
   ],
   "source": [
    "\n",
    "\n",
    "def subject_average(**scores):\n",
    "    k = sum(scores['국어'] / len(scores['국어']))\n",
    "    e = sum(scores['영어'] / len(scores['영어']))\n",
    "    m = sum(scores['수학']) / len(scores['수학'])\n",
    "\n",
    "    return {\"국어: {k} 영어: {e} 수학: {m}\"}\n",
    "\n",
    "\n",
    "subject_average({'국어': [40,50,60], '수학': [50,60,70], '영어': [40,50,50]})\n",
    "\n",
    "    \n",
    "\n"
   ]
  },
  {
   "cell_type": "code",
   "execution_count": 3,
   "metadata": {},
   "outputs": [
    {
     "data": {
      "text/plain": [
       "20"
      ]
     },
     "execution_count": 3,
     "metadata": {},
     "output_type": "execute_result"
    }
   ],
   "source": [
    "def func_out(out_param):\n",
    "    a = 10\n",
    "    def func_in():\n",
    "        return a + out_param\n",
    "    return func_in\n",
    "\n",
    "\n",
    "def func_out(out_param):\n",
    "    a = 10\n",
    "    func_in = lambda : a + out_param\n",
    "    return func_in()\n",
    "\n",
    "func_out(10)\n"
   ]
  },
  {
   "cell_type": "code",
   "execution_count": 2,
   "metadata": {},
   "outputs": [
    {
     "name": "stdout",
     "output_type": "stream",
     "text": [
      "org_func 가 실행 되기 전 입니다\n",
      "<function do_func at 0x105b2c2c0>\n",
      "original 함수가 실행 되었습니다\n"
     ]
    }
   ],
   "source": [
    "def decorator_func(org_func):  # Decorator\n",
    "    def wrapper_func():\n",
    "        print('org_func 가 실행 되기 전 입니다')\n",
    "        print(org_func)\n",
    "        org_func()\n",
    "\n",
    "    return wrapper_func\n",
    "\n",
    "\n",
    "@decorator_func\n",
    "def do_func():\n",
    "    print('original 함수가 실행 되었습니다')\n",
    "\n",
    "\n",
    "do_func()"
   ]
  },
  {
   "cell_type": "code",
   "execution_count": 11,
   "metadata": {},
   "outputs": [
    {
     "name": "stdout",
     "output_type": "stream",
     "text": [
      "1\n",
      "2\n",
      "3\n",
      "4\n"
     ]
    }
   ],
   "source": [
    "a = [1,2,3,4]\n",
    "list = iter(a)\n",
    "\n",
    "for i in list:\n",
    "    print(i)"
   ]
  },
  {
   "cell_type": "code",
   "execution_count": 17,
   "metadata": {},
   "outputs": [
    {
     "data": {
      "text/plain": [
       "2"
      ]
     },
     "execution_count": 17,
     "metadata": {},
     "output_type": "execute_result"
    }
   ],
   "source": [
    "def gener():\n",
    "    for i in [1, 2]:\n",
    "        yield i\n",
    "\n",
    "g = gener()\n",
    "\n",
    "next(g)\n",
    "next(g)"
   ]
  },
  {
   "cell_type": "code",
   "execution_count": 18,
   "metadata": {},
   "outputs": [
    {
     "data": {
      "text/plain": [
       "1"
      ]
     },
     "execution_count": 18,
     "metadata": {},
     "output_type": "execute_result"
    }
   ],
   "source": [
    "abs(-1) #절댓값"
   ]
  },
  {
   "cell_type": "code",
   "execution_count": 20,
   "metadata": {},
   "outputs": [
    {
     "data": {
      "text/plain": [
       "['1', '2', '3', '4', '5', '6']"
      ]
     },
     "execution_count": 20,
     "metadata": {},
     "output_type": "execute_result"
    }
   ],
   "source": [
    "sorted(['1','2','3','5','6','4'])"
   ]
  },
  {
   "cell_type": "code",
   "execution_count": 25,
   "metadata": {},
   "outputs": [
    {
     "name": "stdout",
     "output_type": "stream",
     "text": [
      "1 a\n",
      "2 b\n"
     ]
    }
   ],
   "source": [
    "lst1 = [1,2,3]\n",
    "lst2 = ['a','b','c']\n",
    "\n",
    "def Alzip():\n",
    "    for i in zip(lst1, lst2):  #zip 동일한 개수로 이루어진 데이터들을 묶어서 처리하는 함수\n",
    "        print(i[0], i[1])\n",
    "\n",
    "Alzip()"
   ]
  },
  {
   "cell_type": "code",
   "execution_count": 30,
   "metadata": {},
   "outputs": [
    {
     "name": "stdout",
     "output_type": "stream",
     "text": [
      "0번째, 이름: body\n",
      "1번째, 이름: foo\n",
      "2번째, 이름: bar\n"
     ]
    }
   ],
   "source": [
    "for index, name in enumerate(['body','foo','bar']): # 순서가 있는 데이터(리스트, 튜플, 문자열)를 입력으로 받아 인덱스 값을 포함하는 enumerate 객체를 리턴한다.\n",
    "    print(f'{index}번째, 이름: {name}')\n",
    "\n"
   ]
  },
  {
   "cell_type": "code",
   "execution_count": 31,
   "metadata": {},
   "outputs": [
    {
     "data": {
      "text/plain": [
       "(True, int)"
      ]
     },
     "execution_count": 31,
     "metadata": {},
     "output_type": "execute_result"
    }
   ],
   "source": [
    "a = 3\n",
    "isinstance(a, int),type(a)  #isinstance() 타입을 검사하는 함수"
   ]
  },
  {
   "cell_type": "code",
   "execution_count": null,
   "metadata": {},
   "outputs": [],
   "source": []
  }
 ],
 "metadata": {
  "kernelspec": {
   "display_name": "example01",
   "language": "python",
   "name": "python3"
  },
  "language_info": {
   "codemirror_mode": {
    "name": "ipython",
    "version": 3
   },
   "file_extension": ".py",
   "mimetype": "text/x-python",
   "name": "python",
   "nbconvert_exporter": "python",
   "pygments_lexer": "ipython3",
   "version": "3.12.4"
  }
 },
 "nbformat": 4,
 "nbformat_minor": 2
}
