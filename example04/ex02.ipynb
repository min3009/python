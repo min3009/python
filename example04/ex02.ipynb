{
 "cells": [
  {
   "cell_type": "code",
   "execution_count": 94,
   "metadata": {},
   "outputs": [
    {
     "data": {
      "text/plain": [
       "'asdfdf'"
      ]
     },
     "execution_count": 94,
     "metadata": {},
     "output_type": "execute_result"
    }
   ],
   "source": [
    "class GrandMother:\n",
    "    family = \"grandFather\"\n",
    "    name = \"dfdf\"\n",
    "\n",
    "    def __init__(self,name):\n",
    "        self.name = name\n",
    "\n",
    "    def print_self(self):\n",
    "        print(self.name)\n",
    "\n",
    "\n",
    "a = GrandMother('asdfdf')\n",
    "a.name\n"
   ]
  },
  {
   "cell_type": "code",
   "execution_count": 86,
   "metadata": {},
   "outputs": [
    {
     "name": "stdout",
     "output_type": "stream",
     "text": [
      "hello\n"
     ]
    }
   ],
   "source": [
    "class Father(GrandMother):\n",
    "    age = 14\n",
    "\n",
    "    def __init__(self):\n",
    "        super().__init__('dfdfdf')\n",
    "\n",
    "    def print_hello(self):\n",
    "        print('hello')\n",
    "\n",
    "\n",
    "b = Father()\n",
    "b.print_hello()\n"
   ]
  },
  {
   "cell_type": "code",
   "execution_count": 111,
   "metadata": {},
   "outputs": [
    {
     "name": "stdout",
     "output_type": "stream",
     "text": [
      "100\n",
      "300\n"
     ]
    }
   ],
   "source": [
    "# 부모 클래스: 탈것\n",
    "# -> 변수: 제조일자, 속도(default = 10)\n",
    "# -> 기능: 앞으로  속도(속도 += 20)만큼 이동, 뒤로 속도(속도 /= 2만큼 이동, 오른쪽 ?? 속도만큼 이동, 왼쪽 ?? 속도만큼 이동\n",
    "\n",
    "# 자식클래스: 오토바이\n",
    "# -> 변수: 탑승자수\n",
    "# -> 기능: 묘기하기\n",
    "\n",
    "# 자식클래스: 스포츠카\n",
    "# -> 변수: 탑승자수, 마력\n",
    "# -> 기능: 추월하기, 멈추기, 빵빵거리기\n",
    "\n",
    "# 자식클래스: 요트\n",
    "# -> 변수: \n",
    "\n",
    "\n",
    "\n",
    "class Vehicle:\n",
    "    date = \"\"\n",
    "    speed = 10\n",
    "    \n",
    "\n",
    "    def __init__(self, date, speed):\n",
    "        self.date = date\n",
    "        self.speed = speed \n",
    "\n",
    "    def Straint(self):\n",
    "        print(f\"앞으로 {Vehicle.speed + self.speed} 속도만큼 이동\")\n",
    "\n",
    "    def Left(self):\n",
    "        print(f\"왼쪽 {self.speed} 속도만큼 이동\")    \n",
    "\n",
    "    def Right(self):\n",
    "        print(f\"오른쪽 {self.speed} 속도만큼 이동\")\n",
    "\n",
    "    def Back(self):\n",
    "        print(f\"뒤로 { (Vehicle.speed + self.speed) / 2} 속도만큼 이동\")    \n",
    "\n",
    "\n",
    "\n",
    "\n",
    "\n",
    "class Car(Vehicle):\n",
    "    number_person = 0\n",
    "    power = 0\n",
    "\n",
    "\n",
    "    def __init__(self, date, speed):\n",
    "        super().__init__(date, speed)\n",
    "\n",
    "    def Overtaking(self):\n",
    "        print('추월하기')\n",
    "    \n",
    "    def Stop(self):\n",
    "        print('멈추기')\n",
    "\n",
    "    def Clarksion(self):\n",
    "        print('빵빵')\n",
    "\n",
    "class Boat(Vehicle):\n",
    "    number_person = 0\n",
    "\n",
    "    def __init__(self, date, speed):\n",
    "        super().__init__(date, speed)\n",
    "\n",
    "\n",
    "    def Diving(self):\n",
    "        print('잠수하기')\n",
    "    \n",
    "    def Attack(self):\n",
    "        ('미사일 발사')\n",
    "\n",
    "    def Asdf(number_person):\n",
    "        print(number_person)\n",
    "\n",
    "# car = Vehicle('2020.12.12', 30)\n",
    "# car.Straint()\n",
    "# car.Back()\n",
    "\n",
    "# hally = Bike('2020.12.12', 50)\n",
    "# hally.Feat()\n",
    "\n",
    "# sport_car = Car('2024.2.2', 70)\n",
    "# sport_car.Stop()\n",
    "\n",
    "# boat = Boat('2024.12.12', 45)\n",
    "# boat.Asdf()\n",
    "\n",
    "class Bike(Vehicle):\n",
    "    number_person = 0\n",
    "\n",
    "    def __init__(self, date):\n",
    "        super().__init__(date, speed = 100)\n",
    "\n",
    "    def Feat(self):\n",
    "        print('덤블링')\n",
    "\n",
    "\n",
    "class Car(Vehicle):\n",
    "    number_person = 0\n",
    "    power = 0\n",
    "    speed = 300\n",
    "\n",
    "\n",
    "    def __init__(self, date):\n",
    "        super().__init__(date, self.speed)\n",
    "\n",
    "    def Overtaking(self):\n",
    "        print('추월하기')\n",
    "    \n",
    "    def Stop(self):\n",
    "        print('멈추기')\n",
    "\n",
    "    def Clarksion(self):\n",
    "        print('빵빵')\n",
    "\n",
    "hally = Bike('2020.12.12')\n",
    "print(hally.speed)\n",
    "\n",
    "sport_car = Car('2024.2.2')\n",
    "print(sport_car.speed)\n",
    "    "
   ]
  },
  {
   "cell_type": "code",
   "execution_count": null,
   "metadata": {},
   "outputs": [],
   "source": []
  }
 ],
 "metadata": {
  "kernelspec": {
   "display_name": "example04",
   "language": "python",
   "name": "python3"
  },
  "language_info": {
   "codemirror_mode": {
    "name": "ipython",
    "version": 3
   },
   "file_extension": ".py",
   "mimetype": "text/x-python",
   "name": "python",
   "nbconvert_exporter": "python",
   "pygments_lexer": "ipython3",
   "version": "3.12.4"
  }
 },
 "nbformat": 4,
 "nbformat_minor": 2
}
