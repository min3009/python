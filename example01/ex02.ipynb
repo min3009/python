{
 "cells": [
  {
   "cell_type": "code",
   "execution_count": 5,
   "metadata": {},
   "outputs": [],
   "source": [
    "import enum\n",
    "\n",
    "class RAINBOW (enum.Enum): #상수에 대한 대표 그룹 명\n",
    "    Red = (enum.auto(), \"빨강\") #메모리 할당하는 코드 enum.auto()\n",
    "    Orange = (enum.auto(), \"주황\")\n",
    "    Yellow = (enum.auto(), \"노랑\")\n",
    "    Green = (enum.auto(), \"초록\")\n",
    "    Blue = (enum.auto(), \"파랑\")\n",
    "    Navy = (enum.auto(), \"남\")\n",
    "    Purple = (enum.auto(), \"보라\")\n",
    "\n"
   ]
  },
  {
   "cell_type": "code",
   "execution_count": 17,
   "metadata": {},
   "outputs": [
    {
     "name": "stdout",
     "output_type": "stream",
     "text": [
      "빨강\n",
      "Red\n"
     ]
    }
   ],
   "source": [
    "print(RAINBOW.Red.value[1])\n",
    "\n",
    "print(RAINBOW.Red.name)\n"
   ]
  },
  {
   "cell_type": "code",
   "execution_count": 18,
   "metadata": {},
   "outputs": [
    {
     "name": "stdout",
     "output_type": "stream",
     "text": [
      "동\n",
      "East\n"
     ]
    }
   ],
   "source": [
    "class EWSN(enum.Enum):\n",
    "    East = (enum.auto(), \"동\")\n",
    "    West = (enum.auto(), \"서\")\n",
    "    South = (enum.auto(), \"남\")\n",
    "    North = (enum.auto(), \"북\")\n",
    "\n",
    "print(EWSN.East.value[1])\n",
    "print(EWSN.East.name)\n"
   ]
  },
  {
   "cell_type": "code",
   "execution_count": 22,
   "metadata": {},
   "outputs": [
    {
     "name": "stdout",
     "output_type": "stream",
     "text": [
      "무지개 안에 RED이 있다?\n",
      "True\n"
     ]
    }
   ],
   "source": [
    "\n",
    "import enum\n",
    "\n",
    "class RAINBOW (enum.Enum): \n",
    "    Red = (enum.auto(), \"빨강\") \n",
    "    Orange = (enum.auto(), \"주황\")\n",
    "    Yellow = (enum.auto(), \"노랑\")\n",
    "    Green = (enum.auto(), \"초록\")\n",
    "    Blue = (enum.auto(), \"파랑\")\n",
    "    Navy = (enum.auto(), \"남\")\n",
    "    Purple = (enum.auto(), \"보라\")\n",
    "\n",
    "print(\"무지개 안에 RED이 있다?\")\n",
    "if RAINBOW.Red :\n",
    "    print(True)\n",
    "else:\n",
    "    print(False)"
   ]
  },
  {
   "cell_type": "code",
   "execution_count": 24,
   "metadata": {},
   "outputs": [
    {
     "data": {
      "text/plain": [
       "'빨강'"
      ]
     },
     "execution_count": 24,
     "metadata": {},
     "output_type": "execute_result"
    }
   ],
   "source": [
    "rainbow_color = 'Red'\n",
    "RAINBOW[rainbow_color].value[1]"
   ]
  },
  {
   "cell_type": "code",
   "execution_count": 25,
   "metadata": {},
   "outputs": [
    {
     "data": {
      "text/plain": [
       "int"
      ]
     },
     "execution_count": 25,
     "metadata": {},
     "output_type": "execute_result"
    }
   ],
   "source": [
    "i = 10\n",
    "type(i)"
   ]
  },
  {
   "cell_type": "code",
   "execution_count": 30,
   "metadata": {},
   "outputs": [
    {
     "name": "stdout",
     "output_type": "stream",
     "text": [
      "/1234\n"
     ]
    }
   ],
   "source": [
    "print(f\"{1}234\")"
   ]
  },
  {
   "cell_type": "code",
   "execution_count": 32,
   "metadata": {},
   "outputs": [
    {
     "name": "stdout",
     "output_type": "stream",
     "text": [
      "Hellow\t\t\t\t\t\t\t\t\t\tWorld\n"
     ]
    }
   ],
   "source": [
    "tap = '\\t'\n",
    "print('Hellow' + tap*10 + 'World')"
   ]
  },
  {
   "cell_type": "code",
   "execution_count": null,
   "metadata": {},
   "outputs": [],
   "source": []
  }
 ],
 "metadata": {
  "kernelspec": {
   "display_name": "example01",
   "language": "python",
   "name": "python3"
  },
  "language_info": {
   "codemirror_mode": {
    "name": "ipython",
    "version": 3
   },
   "file_extension": ".py",
   "mimetype": "text/x-python",
   "name": "python",
   "nbconvert_exporter": "python",
   "pygments_lexer": "ipython3",
   "version": "3.10.14"
  }
 },
 "nbformat": 4,
 "nbformat_minor": 2
}
